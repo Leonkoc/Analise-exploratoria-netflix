{
 "cells": [
  {
   "cell_type": "markdown",
   "id": "8d725297",
   "metadata": {},
   "source": [
    "# Explorando dados "
   ]
  },
  {
   "cell_type": "code",
   "execution_count": null,
   "id": "402879cc",
   "metadata": {},
   "outputs": [],
   "source": []
  },
  {
   "cell_type": "code",
   "execution_count": null,
   "id": "88e6d8e1",
   "metadata": {},
   "outputs": [],
   "source": []
  },
  {
   "cell_type": "markdown",
   "id": "15b4846f",
   "metadata": {},
   "source": [
    "Usamos os dados do dataset obtido do Kaggle: https://www.kaggle.com/datasets/prasertk/netflix-daily-top-10-in-us?select=netflix+daily+top+10.csv"
   ]
  },
  {
   "cell_type": "code",
   "execution_count": 2,
   "id": "80e57a7a",
   "metadata": {},
   "outputs": [],
   "source": [
    "import pandas as pd\n",
    "import datetime as dt"
   ]
  },
  {
   "cell_type": "code",
   "execution_count": 3,
   "id": "dff022ec",
   "metadata": {},
   "outputs": [],
   "source": [
    "base = pd.read_csv('netflix daily top 10.csv')"
   ]
  },
  {
   "cell_type": "markdown",
   "id": "a4cb7149",
   "metadata": {},
   "source": [
    "# Davis dos dados"
   ]
  },
  {
   "cell_type": "code",
   "execution_count": 3,
   "id": "652b5166",
   "metadata": {},
   "outputs": [
    {
     "data": {
      "text/html": [
       "<div>\n",
       "<style scoped>\n",
       "    .dataframe tbody tr th:only-of-type {\n",
       "        vertical-align: middle;\n",
       "    }\n",
       "\n",
       "    .dataframe tbody tr th {\n",
       "        vertical-align: top;\n",
       "    }\n",
       "\n",
       "    .dataframe thead th {\n",
       "        text-align: right;\n",
       "    }\n",
       "</style>\n",
       "<table border=\"1\" class=\"dataframe\">\n",
       "  <thead>\n",
       "    <tr style=\"text-align: right;\">\n",
       "      <th></th>\n",
       "      <th>As of</th>\n",
       "      <th>Rank</th>\n",
       "      <th>Year to Date Rank</th>\n",
       "      <th>Last Week Rank</th>\n",
       "      <th>Title</th>\n",
       "      <th>Type</th>\n",
       "      <th>Netflix Exclusive</th>\n",
       "      <th>Netflix Release Date</th>\n",
       "      <th>Days In Top 10</th>\n",
       "      <th>Viewership Score</th>\n",
       "    </tr>\n",
       "  </thead>\n",
       "  <tbody>\n",
       "    <tr>\n",
       "      <th>0</th>\n",
       "      <td>2020-04-01</td>\n",
       "      <td>1</td>\n",
       "      <td>1</td>\n",
       "      <td>1</td>\n",
       "      <td>Tiger King: Murder, Mayhem …</td>\n",
       "      <td>TV Show</td>\n",
       "      <td>Yes</td>\n",
       "      <td>Mar 20, 2020</td>\n",
       "      <td>9</td>\n",
       "      <td>90</td>\n",
       "    </tr>\n",
       "    <tr>\n",
       "      <th>1</th>\n",
       "      <td>2020-04-01</td>\n",
       "      <td>2</td>\n",
       "      <td>2</td>\n",
       "      <td>-</td>\n",
       "      <td>Ozark</td>\n",
       "      <td>TV Show</td>\n",
       "      <td>Yes</td>\n",
       "      <td>Jul 21, 2017</td>\n",
       "      <td>5</td>\n",
       "      <td>45</td>\n",
       "    </tr>\n",
       "    <tr>\n",
       "      <th>2</th>\n",
       "      <td>2020-04-01</td>\n",
       "      <td>3</td>\n",
       "      <td>3</td>\n",
       "      <td>2</td>\n",
       "      <td>All American</td>\n",
       "      <td>TV Show</td>\n",
       "      <td>NaN</td>\n",
       "      <td>Mar 28, 2019</td>\n",
       "      <td>9</td>\n",
       "      <td>76</td>\n",
       "    </tr>\n",
       "    <tr>\n",
       "      <th>3</th>\n",
       "      <td>2020-04-01</td>\n",
       "      <td>4</td>\n",
       "      <td>4</td>\n",
       "      <td>-</td>\n",
       "      <td>Blood Father</td>\n",
       "      <td>Movie</td>\n",
       "      <td>NaN</td>\n",
       "      <td>Mar 26, 2020</td>\n",
       "      <td>5</td>\n",
       "      <td>30</td>\n",
       "    </tr>\n",
       "    <tr>\n",
       "      <th>4</th>\n",
       "      <td>2020-04-01</td>\n",
       "      <td>5</td>\n",
       "      <td>5</td>\n",
       "      <td>4</td>\n",
       "      <td>The Platform</td>\n",
       "      <td>Movie</td>\n",
       "      <td>Yes</td>\n",
       "      <td>Mar 20, 2020</td>\n",
       "      <td>9</td>\n",
       "      <td>55</td>\n",
       "    </tr>\n",
       "  </tbody>\n",
       "</table>\n",
       "</div>"
      ],
      "text/plain": [
       "        As of  Rank Year to Date Rank Last Week Rank  \\\n",
       "0  2020-04-01     1                 1              1   \n",
       "1  2020-04-01     2                 2              -   \n",
       "2  2020-04-01     3                 3              2   \n",
       "3  2020-04-01     4                 4              -   \n",
       "4  2020-04-01     5                 5              4   \n",
       "\n",
       "                          Title     Type Netflix Exclusive  \\\n",
       "0  Tiger King: Murder, Mayhem …  TV Show               Yes   \n",
       "1                         Ozark  TV Show               Yes   \n",
       "2                  All American  TV Show               NaN   \n",
       "3                  Blood Father    Movie               NaN   \n",
       "4                  The Platform    Movie               Yes   \n",
       "\n",
       "  Netflix Release Date  Days In Top 10  Viewership Score  \n",
       "0         Mar 20, 2020               9                90  \n",
       "1         Jul 21, 2017               5                45  \n",
       "2         Mar 28, 2019               9                76  \n",
       "3         Mar 26, 2020               5                30  \n",
       "4         Mar 20, 2020               9                55  "
      ]
     },
     "execution_count": 3,
     "metadata": {},
     "output_type": "execute_result"
    }
   ],
   "source": [
    "base.head()"
   ]
  },
  {
   "cell_type": "code",
   "execution_count": 4,
   "id": "6fe62793",
   "metadata": {
    "scrolled": true
   },
   "outputs": [
    {
     "data": {
      "text/html": [
       "<div>\n",
       "<style scoped>\n",
       "    .dataframe tbody tr th:only-of-type {\n",
       "        vertical-align: middle;\n",
       "    }\n",
       "\n",
       "    .dataframe tbody tr th {\n",
       "        vertical-align: top;\n",
       "    }\n",
       "\n",
       "    .dataframe thead th {\n",
       "        text-align: right;\n",
       "    }\n",
       "</style>\n",
       "<table border=\"1\" class=\"dataframe\">\n",
       "  <thead>\n",
       "    <tr style=\"text-align: right;\">\n",
       "      <th></th>\n",
       "      <th>As of</th>\n",
       "      <th>Rank</th>\n",
       "      <th>Year to Date Rank</th>\n",
       "      <th>Last Week Rank</th>\n",
       "      <th>Title</th>\n",
       "      <th>Type</th>\n",
       "      <th>Netflix Exclusive</th>\n",
       "      <th>Netflix Release Date</th>\n",
       "      <th>Days In Top 10</th>\n",
       "      <th>Viewership Score</th>\n",
       "    </tr>\n",
       "  </thead>\n",
       "  <tbody>\n",
       "    <tr>\n",
       "      <th>7095</th>\n",
       "      <td>2022-03-11</td>\n",
       "      <td>6</td>\n",
       "      <td>5</td>\n",
       "      <td>1</td>\n",
       "      <td>Worst Roommate Ever</td>\n",
       "      <td>TV Show</td>\n",
       "      <td>Yes</td>\n",
       "      <td>Mar 1, 2022</td>\n",
       "      <td>10</td>\n",
       "      <td>81</td>\n",
       "    </tr>\n",
       "    <tr>\n",
       "      <th>7096</th>\n",
       "      <td>2022-03-11</td>\n",
       "      <td>7</td>\n",
       "      <td>7</td>\n",
       "      <td>2</td>\n",
       "      <td>Vikings: Valhalla</td>\n",
       "      <td>TV Show</td>\n",
       "      <td>Yes</td>\n",
       "      <td>Feb 25, 2022</td>\n",
       "      <td>14</td>\n",
       "      <td>100</td>\n",
       "    </tr>\n",
       "    <tr>\n",
       "      <th>7097</th>\n",
       "      <td>2022-03-11</td>\n",
       "      <td>8</td>\n",
       "      <td>8</td>\n",
       "      <td>-</td>\n",
       "      <td>Shooter</td>\n",
       "      <td>Movie</td>\n",
       "      <td>NaN</td>\n",
       "      <td>Aug 1, 2014</td>\n",
       "      <td>3</td>\n",
       "      <td>7</td>\n",
       "    </tr>\n",
       "    <tr>\n",
       "      <th>7098</th>\n",
       "      <td>2022-03-11</td>\n",
       "      <td>9</td>\n",
       "      <td>9</td>\n",
       "      <td>7</td>\n",
       "      <td>Shrek 2</td>\n",
       "      <td>Movie</td>\n",
       "      <td>NaN</td>\n",
       "      <td>Mar 1, 2022</td>\n",
       "      <td>10</td>\n",
       "      <td>33</td>\n",
       "    </tr>\n",
       "    <tr>\n",
       "      <th>7099</th>\n",
       "      <td>2022-03-11</td>\n",
       "      <td>10</td>\n",
       "      <td>10</td>\n",
       "      <td>-</td>\n",
       "      <td>Shrek</td>\n",
       "      <td>Movie</td>\n",
       "      <td>NaN</td>\n",
       "      <td>May 1, 2018</td>\n",
       "      <td>7</td>\n",
       "      <td>12</td>\n",
       "    </tr>\n",
       "  </tbody>\n",
       "</table>\n",
       "</div>"
      ],
      "text/plain": [
       "           As of  Rank Year to Date Rank Last Week Rank                Title  \\\n",
       "7095  2022-03-11     6                 5              1  Worst Roommate Ever   \n",
       "7096  2022-03-11     7                 7              2    Vikings: Valhalla   \n",
       "7097  2022-03-11     8                 8              -              Shooter   \n",
       "7098  2022-03-11     9                 9              7              Shrek 2   \n",
       "7099  2022-03-11    10                10              -                Shrek   \n",
       "\n",
       "         Type Netflix Exclusive Netflix Release Date  Days In Top 10  \\\n",
       "7095  TV Show               Yes          Mar 1, 2022              10   \n",
       "7096  TV Show               Yes         Feb 25, 2022              14   \n",
       "7097    Movie               NaN          Aug 1, 2014               3   \n",
       "7098    Movie               NaN          Mar 1, 2022              10   \n",
       "7099    Movie               NaN          May 1, 2018               7   \n",
       "\n",
       "      Viewership Score  \n",
       "7095                81  \n",
       "7096               100  \n",
       "7097                 7  \n",
       "7098                33  \n",
       "7099                12  "
      ]
     },
     "execution_count": 4,
     "metadata": {},
     "output_type": "execute_result"
    }
   ],
   "source": [
    "base.tail()"
   ]
  },
  {
   "cell_type": "code",
   "execution_count": 5,
   "id": "554816ff",
   "metadata": {},
   "outputs": [
    {
     "data": {
      "text/plain": [
       "(7100, 10)"
      ]
     },
     "execution_count": 5,
     "metadata": {},
     "output_type": "execute_result"
    }
   ],
   "source": [
    "base.shape"
   ]
  },
  {
   "cell_type": "markdown",
   "id": "0df3569c",
   "metadata": {},
   "source": [
    "### Shape mostra o número de linhas e colunas da minha tabela"
   ]
  },
  {
   "cell_type": "code",
   "execution_count": 6,
   "id": "ade54608",
   "metadata": {},
   "outputs": [
    {
     "data": {
      "text/html": [
       "<div>\n",
       "<style scoped>\n",
       "    .dataframe tbody tr th:only-of-type {\n",
       "        vertical-align: middle;\n",
       "    }\n",
       "\n",
       "    .dataframe tbody tr th {\n",
       "        vertical-align: top;\n",
       "    }\n",
       "\n",
       "    .dataframe thead th {\n",
       "        text-align: right;\n",
       "    }\n",
       "</style>\n",
       "<table border=\"1\" class=\"dataframe\">\n",
       "  <thead>\n",
       "    <tr style=\"text-align: right;\">\n",
       "      <th></th>\n",
       "      <th>As of</th>\n",
       "      <th>Rank</th>\n",
       "      <th>Year to Date Rank</th>\n",
       "      <th>Last Week Rank</th>\n",
       "      <th>Title</th>\n",
       "      <th>Type</th>\n",
       "      <th>Netflix Exclusive</th>\n",
       "      <th>Netflix Release Date</th>\n",
       "      <th>Days In Top 10</th>\n",
       "      <th>Viewership Score</th>\n",
       "    </tr>\n",
       "  </thead>\n",
       "  <tbody>\n",
       "    <tr>\n",
       "      <th>0</th>\n",
       "      <td>2020-04-01</td>\n",
       "      <td>1</td>\n",
       "      <td>1</td>\n",
       "      <td>1</td>\n",
       "      <td>Tiger King: Murder, Mayhem …</td>\n",
       "      <td>TV Show</td>\n",
       "      <td>Yes</td>\n",
       "      <td>Mar 20, 2020</td>\n",
       "      <td>9</td>\n",
       "      <td>90</td>\n",
       "    </tr>\n",
       "    <tr>\n",
       "      <th>1</th>\n",
       "      <td>2020-04-01</td>\n",
       "      <td>2</td>\n",
       "      <td>2</td>\n",
       "      <td>-</td>\n",
       "      <td>Ozark</td>\n",
       "      <td>TV Show</td>\n",
       "      <td>Yes</td>\n",
       "      <td>Jul 21, 2017</td>\n",
       "      <td>5</td>\n",
       "      <td>45</td>\n",
       "    </tr>\n",
       "    <tr>\n",
       "      <th>2</th>\n",
       "      <td>2020-04-01</td>\n",
       "      <td>3</td>\n",
       "      <td>3</td>\n",
       "      <td>2</td>\n",
       "      <td>All American</td>\n",
       "      <td>TV Show</td>\n",
       "      <td>NaN</td>\n",
       "      <td>Mar 28, 2019</td>\n",
       "      <td>9</td>\n",
       "      <td>76</td>\n",
       "    </tr>\n",
       "    <tr>\n",
       "      <th>3</th>\n",
       "      <td>2020-04-01</td>\n",
       "      <td>4</td>\n",
       "      <td>4</td>\n",
       "      <td>-</td>\n",
       "      <td>Blood Father</td>\n",
       "      <td>Movie</td>\n",
       "      <td>NaN</td>\n",
       "      <td>Mar 26, 2020</td>\n",
       "      <td>5</td>\n",
       "      <td>30</td>\n",
       "    </tr>\n",
       "    <tr>\n",
       "      <th>4</th>\n",
       "      <td>2020-04-01</td>\n",
       "      <td>5</td>\n",
       "      <td>5</td>\n",
       "      <td>4</td>\n",
       "      <td>The Platform</td>\n",
       "      <td>Movie</td>\n",
       "      <td>Yes</td>\n",
       "      <td>Mar 20, 2020</td>\n",
       "      <td>9</td>\n",
       "      <td>55</td>\n",
       "    </tr>\n",
       "    <tr>\n",
       "      <th>...</th>\n",
       "      <td>...</td>\n",
       "      <td>...</td>\n",
       "      <td>...</td>\n",
       "      <td>...</td>\n",
       "      <td>...</td>\n",
       "      <td>...</td>\n",
       "      <td>...</td>\n",
       "      <td>...</td>\n",
       "      <td>...</td>\n",
       "      <td>...</td>\n",
       "    </tr>\n",
       "    <tr>\n",
       "      <th>7095</th>\n",
       "      <td>2022-03-11</td>\n",
       "      <td>6</td>\n",
       "      <td>5</td>\n",
       "      <td>1</td>\n",
       "      <td>Worst Roommate Ever</td>\n",
       "      <td>TV Show</td>\n",
       "      <td>Yes</td>\n",
       "      <td>Mar 1, 2022</td>\n",
       "      <td>10</td>\n",
       "      <td>81</td>\n",
       "    </tr>\n",
       "    <tr>\n",
       "      <th>7096</th>\n",
       "      <td>2022-03-11</td>\n",
       "      <td>7</td>\n",
       "      <td>7</td>\n",
       "      <td>2</td>\n",
       "      <td>Vikings: Valhalla</td>\n",
       "      <td>TV Show</td>\n",
       "      <td>Yes</td>\n",
       "      <td>Feb 25, 2022</td>\n",
       "      <td>14</td>\n",
       "      <td>100</td>\n",
       "    </tr>\n",
       "    <tr>\n",
       "      <th>7097</th>\n",
       "      <td>2022-03-11</td>\n",
       "      <td>8</td>\n",
       "      <td>8</td>\n",
       "      <td>-</td>\n",
       "      <td>Shooter</td>\n",
       "      <td>Movie</td>\n",
       "      <td>NaN</td>\n",
       "      <td>Aug 1, 2014</td>\n",
       "      <td>3</td>\n",
       "      <td>7</td>\n",
       "    </tr>\n",
       "    <tr>\n",
       "      <th>7098</th>\n",
       "      <td>2022-03-11</td>\n",
       "      <td>9</td>\n",
       "      <td>9</td>\n",
       "      <td>7</td>\n",
       "      <td>Shrek 2</td>\n",
       "      <td>Movie</td>\n",
       "      <td>NaN</td>\n",
       "      <td>Mar 1, 2022</td>\n",
       "      <td>10</td>\n",
       "      <td>33</td>\n",
       "    </tr>\n",
       "    <tr>\n",
       "      <th>7099</th>\n",
       "      <td>2022-03-11</td>\n",
       "      <td>10</td>\n",
       "      <td>10</td>\n",
       "      <td>-</td>\n",
       "      <td>Shrek</td>\n",
       "      <td>Movie</td>\n",
       "      <td>NaN</td>\n",
       "      <td>May 1, 2018</td>\n",
       "      <td>7</td>\n",
       "      <td>12</td>\n",
       "    </tr>\n",
       "  </tbody>\n",
       "</table>\n",
       "<p>7100 rows × 10 columns</p>\n",
       "</div>"
      ],
      "text/plain": [
       "           As of  Rank Year to Date Rank Last Week Rank  \\\n",
       "0     2020-04-01     1                 1              1   \n",
       "1     2020-04-01     2                 2              -   \n",
       "2     2020-04-01     3                 3              2   \n",
       "3     2020-04-01     4                 4              -   \n",
       "4     2020-04-01     5                 5              4   \n",
       "...          ...   ...               ...            ...   \n",
       "7095  2022-03-11     6                 5              1   \n",
       "7096  2022-03-11     7                 7              2   \n",
       "7097  2022-03-11     8                 8              -   \n",
       "7098  2022-03-11     9                 9              7   \n",
       "7099  2022-03-11    10                10              -   \n",
       "\n",
       "                             Title     Type Netflix Exclusive  \\\n",
       "0     Tiger King: Murder, Mayhem …  TV Show               Yes   \n",
       "1                            Ozark  TV Show               Yes   \n",
       "2                     All American  TV Show               NaN   \n",
       "3                     Blood Father    Movie               NaN   \n",
       "4                     The Platform    Movie               Yes   \n",
       "...                            ...      ...               ...   \n",
       "7095           Worst Roommate Ever  TV Show               Yes   \n",
       "7096             Vikings: Valhalla  TV Show               Yes   \n",
       "7097                       Shooter    Movie               NaN   \n",
       "7098                       Shrek 2    Movie               NaN   \n",
       "7099                         Shrek    Movie               NaN   \n",
       "\n",
       "     Netflix Release Date  Days In Top 10  Viewership Score  \n",
       "0            Mar 20, 2020               9                90  \n",
       "1            Jul 21, 2017               5                45  \n",
       "2            Mar 28, 2019               9                76  \n",
       "3            Mar 26, 2020               5                30  \n",
       "4            Mar 20, 2020               9                55  \n",
       "...                   ...             ...               ...  \n",
       "7095          Mar 1, 2022              10                81  \n",
       "7096         Feb 25, 2022              14               100  \n",
       "7097          Aug 1, 2014               3                 7  \n",
       "7098          Mar 1, 2022              10                33  \n",
       "7099          May 1, 2018               7                12  \n",
       "\n",
       "[7100 rows x 10 columns]"
      ]
     },
     "metadata": {},
     "output_type": "display_data"
    }
   ],
   "source": [
    "display(base)"
   ]
  },
  {
   "cell_type": "markdown",
   "id": "695f4da3",
   "metadata": {},
   "source": [
    "# display() mostra tanto head(), tail() e shape()."
   ]
  },
  {
   "cell_type": "code",
   "execution_count": 5,
   "id": "8eab3a1b",
   "metadata": {},
   "outputs": [
    {
     "name": "stdout",
     "output_type": "stream",
     "text": [
      "2020-04-01\n"
     ]
    }
   ],
   "source": [
    "inicio = pd.to_datetime(base['As of']).dt.date.min()\n",
    "print(inicio)\n",
    "# A função pd.to_datetime() converte uma coluna do dataframe em formato de data/hora para o formato de data/hora do pandas.\n",
    "#A função .dt.date.min() é utilizada para obter a data mínima (a mais antiga) \n"
   ]
  },
  {
   "cell_type": "code",
   "execution_count": 6,
   "id": "0f50b3de",
   "metadata": {},
   "outputs": [
    {
     "name": "stdout",
     "output_type": "stream",
     "text": [
      "2022-03-11\n"
     ]
    }
   ],
   "source": [
    "fim = pd.to_datetime(base['As of']).dt.date.max()\n",
    "print(fim)"
   ]
  },
  {
   "cell_type": "markdown",
   "id": "97952b57",
   "metadata": {},
   "source": [
    "# Dessa forma usando datetime, descubro o periodo da análise"
   ]
  },
  {
   "cell_type": "code",
   "execution_count": 7,
   "id": "d456c4cc",
   "metadata": {},
   "outputs": [
    {
     "name": "stdout",
     "output_type": "stream",
     "text": [
      "<class 'pandas.core.frame.DataFrame'>\n",
      "RangeIndex: 7100 entries, 0 to 7099\n",
      "Data columns (total 10 columns):\n",
      " #   Column                Non-Null Count  Dtype \n",
      "---  ------                --------------  ----- \n",
      " 0   As of                 7100 non-null   object\n",
      " 1   Rank                  7100 non-null   int64 \n",
      " 2   Year to Date Rank     7100 non-null   object\n",
      " 3   Last Week Rank        7100 non-null   object\n",
      " 4   Title                 7100 non-null   object\n",
      " 5   Type                  7100 non-null   object\n",
      " 6   Netflix Exclusive     4599 non-null   object\n",
      " 7   Netflix Release Date  7100 non-null   object\n",
      " 8   Days In Top 10        7100 non-null   int64 \n",
      " 9   Viewership Score      7100 non-null   int64 \n",
      "dtypes: int64(3), object(7)\n",
      "memory usage: 554.8+ KB\n"
     ]
    }
   ],
   "source": [
    "base.info()"
   ]
  },
  {
   "cell_type": "code",
   "execution_count": 8,
   "id": "193560c2",
   "metadata": {},
   "outputs": [
    {
     "data": {
      "text/plain": [
       "As of                   object\n",
       "Rank                     int64\n",
       "Year to Date Rank       object\n",
       "Last Week Rank          object\n",
       "Title                   object\n",
       "Type                    object\n",
       "Netflix Exclusive       object\n",
       "Netflix Release Date    object\n",
       "Days In Top 10           int64\n",
       "Viewership Score         int64\n",
       "dtype: object"
      ]
     },
     "execution_count": 8,
     "metadata": {},
     "output_type": "execute_result"
    }
   ],
   "source": [
    "base.dtypes\n",
    "# saber o tipo de dados que tenho"
   ]
  },
  {
   "cell_type": "markdown",
   "id": "56b26aa2",
   "metadata": {},
   "source": [
    "# Existem valores nulos? isnull().sum()"
   ]
  },
  {
   "cell_type": "code",
   "execution_count": 14,
   "id": "7b8a79c2",
   "metadata": {},
   "outputs": [
    {
     "data": {
      "text/plain": [
       "As of                      0\n",
       "Rank                       0\n",
       "Year to Date Rank          0\n",
       "Last Week Rank             0\n",
       "Title                      0\n",
       "Type                       0\n",
       "Netflix Exclusive       2501\n",
       "Netflix Release Date       0\n",
       "Days In Top 10             0\n",
       "Viewership Score           0\n",
       "dtype: int64"
      ]
     },
     "execution_count": 14,
     "metadata": {},
     "output_type": "execute_result"
    }
   ],
   "source": [
    "base.isnull().sum()"
   ]
  },
  {
   "cell_type": "code",
   "execution_count": 9,
   "id": "9ee1462b",
   "metadata": {},
   "outputs": [
    {
     "data": {
      "text/plain": [
       "As of                      0\n",
       "Rank                       0\n",
       "Year to Date Rank          0\n",
       "Last Week Rank             0\n",
       "Title                      0\n",
       "Type                       0\n",
       "Netflix Exclusive       2501\n",
       "Netflix Release Date       0\n",
       "Days In Top 10             0\n",
       "Viewership Score           0\n",
       "dtype: int64"
      ]
     },
     "execution_count": 9,
     "metadata": {},
     "output_type": "execute_result"
    }
   ],
   "source": [
    "base.isna().sum()"
   ]
  },
  {
   "cell_type": "code",
   "execution_count": 10,
   "id": "31c5a22a",
   "metadata": {},
   "outputs": [
    {
     "data": {
      "text/plain": [
       "2501"
      ]
     },
     "execution_count": 10,
     "metadata": {},
     "output_type": "execute_result"
    }
   ],
   "source": [
    "base.isnull().sum().sum()"
   ]
  },
  {
   "cell_type": "markdown",
   "id": "f7774444",
   "metadata": {},
   "source": [
    "Esse código retorna a soma de todas as contagens de valores vazios em todas as colunas da base de dados"
   ]
  },
  {
   "cell_type": "markdown",
   "id": "2479aca3",
   "metadata": {},
   "source": [
    "# Netflix Exclusive está com vários valores nulos, precisamos entender essa coluna"
   ]
  },
  {
   "cell_type": "code",
   "execution_count": 17,
   "id": "a6f011ef",
   "metadata": {},
   "outputs": [
    {
     "data": {
      "text/plain": [
       "Yes    4599\n",
       "Name: Netflix Exclusive, dtype: int64"
      ]
     },
     "execution_count": 17,
     "metadata": {},
     "output_type": "execute_result"
    }
   ],
   "source": [
    "base['Netflix Exclusive'].value_counts()"
   ]
  },
  {
   "cell_type": "markdown",
   "id": "d52384bc",
   "metadata": {},
   "source": [
    "### Nesse caso temos 4599 valores yes na coluna netflix exclusive, oq talvez aponte que o null possa siginificar não"
   ]
  },
  {
   "cell_type": "code",
   "execution_count": null,
   "id": "94db97f0",
   "metadata": {},
   "outputs": [],
   "source": [
    "#  É possível inferir que, neste caso, a presença de valores nulos na coluna \n",
    "# \"Netflix Exclusive\" possa indicar que não é uma exclusividade da Netflix.\n",
    "# No entanto, é importante lembrar que essa inferência só pode ser feita com base no conhecimento do contexto"
   ]
  },
  {
   "cell_type": "markdown",
   "id": "3ba1115a",
   "metadata": {},
   "source": [
    "# Hora de usar o describe()"
   ]
  },
  {
   "cell_type": "code",
   "execution_count": 18,
   "id": "9d3e369c",
   "metadata": {},
   "outputs": [],
   "source": [
    "# Usado para gerar um resumo estatístico descritivo da minha Base"
   ]
  },
  {
   "cell_type": "code",
   "execution_count": 11,
   "id": "00189463",
   "metadata": {},
   "outputs": [
    {
     "data": {
      "text/html": [
       "<div>\n",
       "<style scoped>\n",
       "    .dataframe tbody tr th:only-of-type {\n",
       "        vertical-align: middle;\n",
       "    }\n",
       "\n",
       "    .dataframe tbody tr th {\n",
       "        vertical-align: top;\n",
       "    }\n",
       "\n",
       "    .dataframe thead th {\n",
       "        text-align: right;\n",
       "    }\n",
       "</style>\n",
       "<table border=\"1\" class=\"dataframe\">\n",
       "  <thead>\n",
       "    <tr style=\"text-align: right;\">\n",
       "      <th></th>\n",
       "      <th>Rank</th>\n",
       "      <th>Days In Top 10</th>\n",
       "      <th>Viewership Score</th>\n",
       "    </tr>\n",
       "  </thead>\n",
       "  <tbody>\n",
       "    <tr>\n",
       "      <th>count</th>\n",
       "      <td>7100.000000</td>\n",
       "      <td>7100.000000</td>\n",
       "      <td>7100.000000</td>\n",
       "    </tr>\n",
       "    <tr>\n",
       "      <th>mean</th>\n",
       "      <td>5.500000</td>\n",
       "      <td>24.123662</td>\n",
       "      <td>122.790141</td>\n",
       "    </tr>\n",
       "    <tr>\n",
       "      <th>std</th>\n",
       "      <td>2.872484</td>\n",
       "      <td>58.473789</td>\n",
       "      <td>213.861642</td>\n",
       "    </tr>\n",
       "    <tr>\n",
       "      <th>min</th>\n",
       "      <td>1.000000</td>\n",
       "      <td>1.000000</td>\n",
       "      <td>1.000000</td>\n",
       "    </tr>\n",
       "    <tr>\n",
       "      <th>25%</th>\n",
       "      <td>3.000000</td>\n",
       "      <td>3.000000</td>\n",
       "      <td>19.000000</td>\n",
       "    </tr>\n",
       "    <tr>\n",
       "      <th>50%</th>\n",
       "      <td>5.500000</td>\n",
       "      <td>7.000000</td>\n",
       "      <td>50.000000</td>\n",
       "    </tr>\n",
       "    <tr>\n",
       "      <th>75%</th>\n",
       "      <td>8.000000</td>\n",
       "      <td>18.000000</td>\n",
       "      <td>128.000000</td>\n",
       "    </tr>\n",
       "    <tr>\n",
       "      <th>max</th>\n",
       "      <td>10.000000</td>\n",
       "      <td>428.000000</td>\n",
       "      <td>1474.000000</td>\n",
       "    </tr>\n",
       "  </tbody>\n",
       "</table>\n",
       "</div>"
      ],
      "text/plain": [
       "              Rank  Days In Top 10  Viewership Score\n",
       "count  7100.000000     7100.000000       7100.000000\n",
       "mean      5.500000       24.123662        122.790141\n",
       "std       2.872484       58.473789        213.861642\n",
       "min       1.000000        1.000000          1.000000\n",
       "25%       3.000000        3.000000         19.000000\n",
       "50%       5.500000        7.000000         50.000000\n",
       "75%       8.000000       18.000000        128.000000\n",
       "max      10.000000      428.000000       1474.000000"
      ]
     },
     "execution_count": 11,
     "metadata": {},
     "output_type": "execute_result"
    }
   ],
   "source": [
    "base.describe()"
   ]
  },
  {
   "cell_type": "code",
   "execution_count": null,
   "id": "f9bf4168",
   "metadata": {},
   "outputs": [],
   "source": [
    "#Aqui gerou dados conflitantes, da média com o desvio padrão"
   ]
  },
  {
   "cell_type": "markdown",
   "id": "60ed92ac",
   "metadata": {},
   "source": [
    "Senta que vem explicação da próxima linha de código...\n",
    "Este código vai gerar um gráfico de boxplot para cada coluna numérica do DataFrame \"base\".\n",
    "\n",
    "Parâmetros:\n",
    "+ kind='box': informa que o tipo de gráfico a ser gerado é um boxplot.\n",
    "\n",
    "+ figsize=(10,6): Especifica as dimensões da figura gerada (10 unidades de largura por 6 de altura).\n",
    "\n",
    "+ subplots=True: informa que o gráfico deve ser gerado com um subplot para cada coluna numérica presente no DataFrame.\n",
    "\n",
    "+ Um boxplot: É um gráfico que representa visualmente um conjunto de dados numéricos, permitindo a identificação de valores extremos, dispersão, simetria ou assimetria e outros aspectos do conjunto de dados."
   ]
  },
  {
   "cell_type": "code",
   "execution_count": 12,
   "id": "643f0d90",
   "metadata": {},
   "outputs": [
    {
     "data": {
      "text/plain": [
       "Rank                   AxesSubplot(0.125,0.11;0.227941x0.77)\n",
       "Days In Top 10      AxesSubplot(0.398529,0.11;0.227941x0.77)\n",
       "Viewership Score    AxesSubplot(0.672059,0.11;0.227941x0.77)\n",
       "dtype: object"
      ]
     },
     "execution_count": 12,
     "metadata": {},
     "output_type": "execute_result"
    },
    {
     "data": {
      "image/png": "[encoded data removed]",
      "text/plain": [
       "<Figure size 1000x600 with 3 Axes>"
      ]
     },
     "metadata": {},
     "output_type": "display_data"
    }
   ],
   "source": [
    "base.plot(kind = 'box',figsize = (10,6),subplots=True)\n"
   ]
  },
  {
   "cell_type": "code",
   "execution_count": 21,
   "id": "e3c76967",
   "metadata": {},
   "outputs": [],
   "source": [
    "# O primeiro gráfico está ok, mas o segundo apresenta algumas disformidades, talvez outliers\n",
    "# Outliers são valores extremos ou atípicos que estão significativamente distantes da maioria dos outros valores \n",
    "#em um conjunto de dados."
   ]
  },
  {
   "cell_type": "code",
   "execution_count": 13,
   "id": "bd1d1b78",
   "metadata": {},
   "outputs": [
    {
     "data": {
      "text/html": [
       "<div>\n",
       "<style scoped>\n",
       "    .dataframe tbody tr th:only-of-type {\n",
       "        vertical-align: middle;\n",
       "    }\n",
       "\n",
       "    .dataframe tbody tr th {\n",
       "        vertical-align: top;\n",
       "    }\n",
       "\n",
       "    .dataframe thead th {\n",
       "        text-align: right;\n",
       "    }\n",
       "</style>\n",
       "<table border=\"1\" class=\"dataframe\">\n",
       "  <thead>\n",
       "    <tr style=\"text-align: right;\">\n",
       "      <th></th>\n",
       "      <th>As of</th>\n",
       "      <th>Rank</th>\n",
       "      <th>Year to Date Rank</th>\n",
       "      <th>Last Week Rank</th>\n",
       "      <th>Title</th>\n",
       "      <th>Type</th>\n",
       "      <th>Netflix Exclusive</th>\n",
       "      <th>Netflix Release Date</th>\n",
       "      <th>Days In Top 10</th>\n",
       "      <th>Viewership Score</th>\n",
       "    </tr>\n",
       "  </thead>\n",
       "  <tbody>\n",
       "    <tr>\n",
       "      <th>2886</th>\n",
       "      <td>2021-01-14</td>\n",
       "      <td>7</td>\n",
       "      <td>6</td>\n",
       "      <td>8</td>\n",
       "      <td>Cocomelon</td>\n",
       "      <td>TV Show</td>\n",
       "      <td>NaN</td>\n",
       "      <td>Jun 1, 2020</td>\n",
       "      <td>100</td>\n",
       "      <td>287</td>\n",
       "    </tr>\n",
       "    <tr>\n",
       "      <th>2896</th>\n",
       "      <td>2021-01-15</td>\n",
       "      <td>7</td>\n",
       "      <td>7</td>\n",
       "      <td>10</td>\n",
       "      <td>Cocomelon</td>\n",
       "      <td>TV Show</td>\n",
       "      <td>NaN</td>\n",
       "      <td>Jun 1, 2020</td>\n",
       "      <td>101</td>\n",
       "      <td>291</td>\n",
       "    </tr>\n",
       "    <tr>\n",
       "      <th>2909</th>\n",
       "      <td>2021-01-16</td>\n",
       "      <td>10</td>\n",
       "      <td>7</td>\n",
       "      <td>9</td>\n",
       "      <td>Cocomelon</td>\n",
       "      <td>TV Show</td>\n",
       "      <td>NaN</td>\n",
       "      <td>Jun 1, 2020</td>\n",
       "      <td>102</td>\n",
       "      <td>292</td>\n",
       "    </tr>\n",
       "    <tr>\n",
       "      <th>2919</th>\n",
       "      <td>2021-01-17</td>\n",
       "      <td>10</td>\n",
       "      <td>10</td>\n",
       "      <td>9</td>\n",
       "      <td>Cocomelon</td>\n",
       "      <td>TV Show</td>\n",
       "      <td>NaN</td>\n",
       "      <td>Jun 1, 2020</td>\n",
       "      <td>103</td>\n",
       "      <td>293</td>\n",
       "    </tr>\n",
       "    <tr>\n",
       "      <th>3019</th>\n",
       "      <td>2021-01-27</td>\n",
       "      <td>10</td>\n",
       "      <td>-</td>\n",
       "      <td>-</td>\n",
       "      <td>Cocomelon</td>\n",
       "      <td>TV Show</td>\n",
       "      <td>NaN</td>\n",
       "      <td>Jun 1, 2020</td>\n",
       "      <td>104</td>\n",
       "      <td>294</td>\n",
       "    </tr>\n",
       "    <tr>\n",
       "      <th>...</th>\n",
       "      <td>...</td>\n",
       "      <td>...</td>\n",
       "      <td>...</td>\n",
       "      <td>...</td>\n",
       "      <td>...</td>\n",
       "      <td>...</td>\n",
       "      <td>...</td>\n",
       "      <td>...</td>\n",
       "      <td>...</td>\n",
       "      <td>...</td>\n",
       "    </tr>\n",
       "    <tr>\n",
       "      <th>6674</th>\n",
       "      <td>2022-01-28</td>\n",
       "      <td>5</td>\n",
       "      <td>6</td>\n",
       "      <td>-</td>\n",
       "      <td>Cocomelon</td>\n",
       "      <td>TV Show</td>\n",
       "      <td>NaN</td>\n",
       "      <td>Jun 1, 2020</td>\n",
       "      <td>424</td>\n",
       "      <td>1466</td>\n",
       "    </tr>\n",
       "    <tr>\n",
       "      <th>6687</th>\n",
       "      <td>2022-01-29</td>\n",
       "      <td>8</td>\n",
       "      <td>5</td>\n",
       "      <td>8</td>\n",
       "      <td>Cocomelon</td>\n",
       "      <td>TV Show</td>\n",
       "      <td>NaN</td>\n",
       "      <td>Jun 1, 2020</td>\n",
       "      <td>425</td>\n",
       "      <td>1469</td>\n",
       "    </tr>\n",
       "    <tr>\n",
       "      <th>6718</th>\n",
       "      <td>2022-02-01</td>\n",
       "      <td>9</td>\n",
       "      <td>-</td>\n",
       "      <td>7</td>\n",
       "      <td>Cocomelon</td>\n",
       "      <td>TV Show</td>\n",
       "      <td>NaN</td>\n",
       "      <td>Jun 1, 2020</td>\n",
       "      <td>426</td>\n",
       "      <td>1471</td>\n",
       "    </tr>\n",
       "    <tr>\n",
       "      <th>6959</th>\n",
       "      <td>2022-02-25</td>\n",
       "      <td>10</td>\n",
       "      <td>-</td>\n",
       "      <td>-</td>\n",
       "      <td>Cocomelon</td>\n",
       "      <td>TV Show</td>\n",
       "      <td>NaN</td>\n",
       "      <td>Jun 1, 2020</td>\n",
       "      <td>427</td>\n",
       "      <td>1472</td>\n",
       "    </tr>\n",
       "    <tr>\n",
       "      <th>6998</th>\n",
       "      <td>2022-03-01</td>\n",
       "      <td>9</td>\n",
       "      <td>-</td>\n",
       "      <td>-</td>\n",
       "      <td>Cocomelon</td>\n",
       "      <td>TV Show</td>\n",
       "      <td>NaN</td>\n",
       "      <td>Jun 1, 2020</td>\n",
       "      <td>428</td>\n",
       "      <td>1474</td>\n",
       "    </tr>\n",
       "  </tbody>\n",
       "</table>\n",
       "<p>329 rows × 10 columns</p>\n",
       "</div>"
      ],
      "text/plain": [
       "           As of  Rank Year to Date Rank Last Week Rank      Title     Type  \\\n",
       "2886  2021-01-14     7                 6              8  Cocomelon  TV Show   \n",
       "2896  2021-01-15     7                 7             10  Cocomelon  TV Show   \n",
       "2909  2021-01-16    10                 7              9  Cocomelon  TV Show   \n",
       "2919  2021-01-17    10                10              9  Cocomelon  TV Show   \n",
       "3019  2021-01-27    10                 -              -  Cocomelon  TV Show   \n",
       "...          ...   ...               ...            ...        ...      ...   \n",
       "6674  2022-01-28     5                 6              -  Cocomelon  TV Show   \n",
       "6687  2022-01-29     8                 5              8  Cocomelon  TV Show   \n",
       "6718  2022-02-01     9                 -              7  Cocomelon  TV Show   \n",
       "6959  2022-02-25    10                 -              -  Cocomelon  TV Show   \n",
       "6998  2022-03-01     9                 -              -  Cocomelon  TV Show   \n",
       "\n",
       "     Netflix Exclusive Netflix Release Date  Days In Top 10  Viewership Score  \n",
       "2886               NaN          Jun 1, 2020             100               287  \n",
       "2896               NaN          Jun 1, 2020             101               291  \n",
       "2909               NaN          Jun 1, 2020             102               292  \n",
       "2919               NaN          Jun 1, 2020             103               293  \n",
       "3019               NaN          Jun 1, 2020             104               294  \n",
       "...                ...                  ...             ...               ...  \n",
       "6674               NaN          Jun 1, 2020             424              1466  \n",
       "6687               NaN          Jun 1, 2020             425              1469  \n",
       "6718               NaN          Jun 1, 2020             426              1471  \n",
       "6959               NaN          Jun 1, 2020             427              1472  \n",
       "6998               NaN          Jun 1, 2020             428              1474  \n",
       "\n",
       "[329 rows x 10 columns]"
      ]
     },
     "execution_count": 13,
     "metadata": {},
     "output_type": "execute_result"
    }
   ],
   "source": [
    "base[base['Days In Top 10'] >= 100]\n",
    "# oq estou fazendo aqui, estou filtrando minha base usando como parametro a coluna day in top 10, que ficaram mais\n",
    "#de 100 dias no meu top 10"
   ]
  },
  {
   "cell_type": "code",
   "execution_count": 23,
   "id": "70c2a100",
   "metadata": {},
   "outputs": [],
   "source": [
    "# Cocomelon contexto de um pai, sei bem qual é e toda criança assiste, então meio que claro \n",
    "#que ficou no top 100 por vários dias"
   ]
  },
  {
   "cell_type": "code",
   "execution_count": 15,
   "id": "bb702cfe",
   "metadata": {},
   "outputs": [],
   "source": [
    "base_excel = base[base['Days In Top 10'] >= 100]\n",
    "base_excel.to_excel('verificar.xlsx')\n",
    "#Exportei aquela base, com o top 100 do Cocomelon, para um excel!"
   ]
  },
  {
   "cell_type": "code",
   "execution_count": 16,
   "id": "a8f1dc19",
   "metadata": {},
   "outputs": [
    {
     "data": {
      "text/plain": [
       "Cocomelon                       428\n",
       "Ozark                            85\n",
       "Cobra Kai                        81\n",
       "Manifest                         80\n",
       "The Queenâs Gambit             73\n",
       "                               ... \n",
       "The Office                        1\n",
       "Animals on the Loose: A You…      1\n",
       "Dark                              1\n",
       "The Secret Life of Pets 2         1\n",
       "Step Up Revolution                1\n",
       "Name: Title, Length: 645, dtype: int64"
      ]
     },
     "execution_count": 16,
     "metadata": {},
     "output_type": "execute_result"
    }
   ],
   "source": [
    "base.Title.value_counts()\n",
    "# Cocomelon, apareceu em 428 dias"
   ]
  },
  {
   "cell_type": "code",
   "execution_count": 17,
   "id": "b6489f40",
   "metadata": {},
   "outputs": [],
   "source": [
    "quantidade = base.Title.value_counts()\n",
    "quantidade.to_excel('ContagemTitulos.xlsx')"
   ]
  },
  {
   "cell_type": "code",
   "execution_count": null,
   "id": "738cab7c",
   "metadata": {},
   "outputs": [],
   "source": []
  }
 ],
 "metadata": {
  "kernelspec": {
   "display_name": "Python 3 (ipykernel)",
   "language": "python",
   "name": "python3"
  },
  "language_info": {
   "codemirror_mode": {
    "name": "ipython",
    "version": 3
   },
   "file_extension": ".py",
   "mimetype": "text/x-python",
   "name": "python",
   "nbconvert_exporter": "python",
   "pygments_lexer": "ipython3",
   "version": "3.9.13"
  }
 },
 "nbformat": 4,
 "nbformat_minor": 5
}
